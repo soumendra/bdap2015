{
 "cells": [
  {
   "cell_type": "markdown",
   "metadata": {},
   "source": [
    "Please fill up the following\n",
    "* Student Name: Riddhik Rathod\n",
    "* Student ID: 397\n",
    "* Student Email ID: riddhik.bdapm10150128@spjain.org\n",
    "* Student GitHub Repo URL: https://github.com/DataScientist-Riddhik/"
   ]
  },
  {
   "cell_type": "markdown",
   "metadata": {},
   "source": [
    "# DPSC Assignment 1"
   ]
  },
  {
   "cell_type": "markdown",
   "metadata": {},
   "source": [
    "## Instructions\n",
    "\n",
    "For each of the tasks below, write relevant R code in the cells and execute the cells before submission."
   ]
  },
  {
   "cell_type": "markdown",
   "metadata": {},
   "source": [
    "### Problem 1\n",
    "\n",
    "Is the following a DataFrame?"
   ]
  },
  {
   "cell_type": "markdown",
   "metadata": {
    "collapsed": true
   },
   "source": [
    "control | pre-heated | pre-chilled\n",
    "-------- | ---------- | ----------\n",
    "5.9 | 5.8  | 6.1\n",
    "6.2 | 7.3  | 6.3\n",
    "8.2 | 5.4  | 7.1\n",
    "5.8 | 6.3  | 6.9"
   ]
  },
  {
   "cell_type": "markdown",
   "metadata": {},
   "source": [
    "**Ans: ** The above is not a data frame. A data frame should have a logical connection between the columns in order for data to make sense when reading it and performing computations. The above table only mentions certain numeric values but gives no additional information about how the values affect each other or about how to make logical sense out of the data presented. The same table can be arranged in a different format and thus be made into a data frame which is sensible."
   ]
  },
  {
   "cell_type": "markdown",
   "metadata": {},
   "source": [
    "### Problem 2\n",
    "\n",
    "Import the *titanic.csv* file (present in the *data* folder of the repository, don't move it elsewhere or your pull request will be rejected) and create a statistical summary of the variables. Read the DataFrame into a variable called *titanic*."
   ]
  },
  {
   "cell_type": "code",
   "execution_count": 9,
   "metadata": {
    "collapsed": false
   },
   "outputs": [
    {
     "data": {
      "text/plain": [
       "  PassengerId       Survived          Pclass     \n",
       " Min.   :  1.0   Min.   :0.0000   Min.   :1.000  \n",
       " 1st Qu.:223.5   1st Qu.:0.0000   1st Qu.:2.000  \n",
       " Median :446.0   Median :0.0000   Median :3.000  \n",
       " Mean   :446.0   Mean   :0.3838   Mean   :2.309  \n",
       " 3rd Qu.:668.5   3rd Qu.:1.0000   3rd Qu.:3.000  \n",
       " Max.   :891.0   Max.   :1.0000   Max.   :3.000  \n",
       "                                                 \n",
       "                                    Name         Sex           Age       \n",
       " Abbing, Mr. Anthony                  :  1   female:314   Min.   : 0.42  \n",
       " Abbott, Mr. Rossmore Edward          :  1   male  :577   1st Qu.:20.12  \n",
       " Abbott, Mrs. Stanton (Rosa Hunt)     :  1                Median :28.00  \n",
       " Abelson, Mr. Samuel                  :  1                Mean   :29.70  \n",
       " Abelson, Mrs. Samuel (Hannah Wizosky):  1                3rd Qu.:38.00  \n",
       " Adahl, Mr. Mauritz Nils Martin       :  1                Max.   :80.00  \n",
       " (Other)                              :885                NA's   :177    \n",
       "     SibSp           Parch             Ticket         Fare       \n",
       " Min.   :0.000   Min.   :0.0000   1601    :  7   Min.   :  0.00  \n",
       " 1st Qu.:0.000   1st Qu.:0.0000   347082  :  7   1st Qu.:  7.91  \n",
       " Median :0.000   Median :0.0000   CA. 2343:  7   Median : 14.45  \n",
       " Mean   :0.523   Mean   :0.3816   3101295 :  6   Mean   : 32.20  \n",
       " 3rd Qu.:1.000   3rd Qu.:0.0000   347088  :  6   3rd Qu.: 31.00  \n",
       " Max.   :8.000   Max.   :6.0000   CA 2144 :  6   Max.   :512.33  \n",
       "                                  (Other) :852                   \n",
       "         Cabin     Embarked\n",
       "            :687    :  2   \n",
       " B96 B98    :  4   C:168   \n",
       " C23 C25 C27:  4   Q: 77   \n",
       " G6         :  4   S:644   \n",
       " C22 C26    :  3           \n",
       " D          :  3           \n",
       " (Other)    :186           "
      ]
     },
     "execution_count": 9,
     "metadata": {},
     "output_type": "execute_result"
    }
   ],
   "source": [
    "titanic <- read.csv(\"../data/titanic.csv\")\n",
    "summary(titanic)"
   ]
  },
  {
   "cell_type": "markdown",
   "metadata": {},
   "source": [
    "### Problem 3\n",
    "\n",
    "For the DataFrame *titanic*\n",
    "\n",
    "* Calculate the mean of all the numeric columns.\n",
    "* Add its column sums to the original matrix as an additional row. Use *NA* for non-numeric columns."
   ]
  },
  {
   "cell_type": "code",
   "execution_count": 10,
   "metadata": {
    "collapsed": false
   },
   "outputs": [
    {
     "data": {
      "text/html": [
       "'Mean of Passenger ID:'"
      ],
      "text/latex": [
       "'Mean of Passenger ID:'"
      ],
      "text/markdown": [
       "'Mean of Passenger ID:'"
      ],
      "text/plain": [
       "[1] \"Mean of Passenger ID:\""
      ]
     },
     "execution_count": 10,
     "metadata": {},
     "output_type": "execute_result"
    },
    {
     "data": {
      "text/html": [
       "446"
      ],
      "text/latex": [
       "446"
      ],
      "text/markdown": [
       "446"
      ],
      "text/plain": [
       "[1] 446"
      ]
     },
     "execution_count": 10,
     "metadata": {},
     "output_type": "execute_result"
    },
    {
     "data": {
      "text/html": [
       "'Mean of Survived:'"
      ],
      "text/latex": [
       "'Mean of Survived:'"
      ],
      "text/markdown": [
       "'Mean of Survived:'"
      ],
      "text/plain": [
       "[1] \"Mean of Survived:\""
      ]
     },
     "execution_count": 10,
     "metadata": {},
     "output_type": "execute_result"
    },
    {
     "data": {
      "text/html": [
       "0.3838"
      ],
      "text/latex": [
       "0.3838"
      ],
      "text/markdown": [
       "0.3838"
      ],
      "text/plain": [
       "[1] 0.3838"
      ]
     },
     "execution_count": 10,
     "metadata": {},
     "output_type": "execute_result"
    },
    {
     "data": {
      "text/html": [
       "'Mean of Pclass:'"
      ],
      "text/latex": [
       "'Mean of Pclass:'"
      ],
      "text/markdown": [
       "'Mean of Pclass:'"
      ],
      "text/plain": [
       "[1] \"Mean of Pclass:\""
      ]
     },
     "execution_count": 10,
     "metadata": {},
     "output_type": "execute_result"
    },
    {
     "data": {
      "text/html": [
       "2.3086"
      ],
      "text/latex": [
       "2.3086"
      ],
      "text/markdown": [
       "2.3086"
      ],
      "text/plain": [
       "[1] 2.3086"
      ]
     },
     "execution_count": 10,
     "metadata": {},
     "output_type": "execute_result"
    },
    {
     "data": {
      "text/html": [
       "'Mean of Age:'"
      ],
      "text/latex": [
       "'Mean of Age:'"
      ],
      "text/markdown": [
       "'Mean of Age:'"
      ],
      "text/plain": [
       "[1] \"Mean of Age:\""
      ]
     },
     "execution_count": 10,
     "metadata": {},
     "output_type": "execute_result"
    },
    {
     "data": {
      "text/html": [
       "29.6991"
      ],
      "text/latex": [
       "29.6991"
      ],
      "text/markdown": [
       "29.6991"
      ],
      "text/plain": [
       "[1] 29.6991"
      ]
     },
     "execution_count": 10,
     "metadata": {},
     "output_type": "execute_result"
    },
    {
     "data": {
      "text/html": [
       "'Mean of SibSp:'"
      ],
      "text/latex": [
       "'Mean of SibSp:'"
      ],
      "text/markdown": [
       "'Mean of SibSp:'"
      ],
      "text/plain": [
       "[1] \"Mean of SibSp:\""
      ]
     },
     "execution_count": 10,
     "metadata": {},
     "output_type": "execute_result"
    },
    {
     "data": {
      "text/html": [
       "0.523"
      ],
      "text/latex": [
       "0.523"
      ],
      "text/markdown": [
       "0.523"
      ],
      "text/plain": [
       "[1] 0.523"
      ]
     },
     "execution_count": 10,
     "metadata": {},
     "output_type": "execute_result"
    },
    {
     "data": {
      "text/html": [
       "'Mean of Parch:'"
      ],
      "text/latex": [
       "'Mean of Parch:'"
      ],
      "text/markdown": [
       "'Mean of Parch:'"
      ],
      "text/plain": [
       "[1] \"Mean of Parch:\""
      ]
     },
     "execution_count": 10,
     "metadata": {},
     "output_type": "execute_result"
    },
    {
     "data": {
      "text/html": [
       "0.3816"
      ],
      "text/latex": [
       "0.3816"
      ],
      "text/markdown": [
       "0.3816"
      ],
      "text/plain": [
       "[1] 0.3816"
      ]
     },
     "execution_count": 10,
     "metadata": {},
     "output_type": "execute_result"
    },
    {
     "data": {
      "text/html": [
       "'Mean of Fare:'"
      ],
      "text/latex": [
       "'Mean of Fare:'"
      ],
      "text/markdown": [
       "'Mean of Fare:'"
      ],
      "text/plain": [
       "[1] \"Mean of Fare:\""
      ]
     },
     "execution_count": 10,
     "metadata": {},
     "output_type": "execute_result"
    },
    {
     "data": {
      "text/html": [
       "32.2042"
      ],
      "text/latex": [
       "32.2042"
      ],
      "text/markdown": [
       "32.2042"
      ],
      "text/plain": [
       "[1] 32.2042"
      ]
     },
     "execution_count": 10,
     "metadata": {},
     "output_type": "execute_result"
    }
   ],
   "source": [
    "#str(titanic)\n",
    "\"Mean of Passenger ID:\"\n",
    "mean(titanic$PassengerId, na.rm = TRUE)\n",
    "\n",
    "\"Mean of Survived:\"\n",
    "round(mean(titanic$Survived, na.rm = TRUE),4)\n",
    "\n",
    "\"Mean of Pclass:\"\n",
    "round(mean(titanic$Pclass, na.rm = TRUE),4)\n",
    "\n",
    "\"Mean of Age:\"\n",
    "round(mean(titanic$Age, na.rm = TRUE),4)\n",
    "\n",
    "\"Mean of SibSp:\"\n",
    "round(mean(titanic$SibSp, na.rm = TRUE),4)\n",
    "\n",
    "\"Mean of Parch:\"\n",
    "round(mean(titanic$Parch, na.rm = TRUE),4)\n",
    "\n",
    "\"Mean of Fare:\"\n",
    "round(mean(titanic$Fare, na.rm = TRUE),4)"
   ]
  },
  {
   "cell_type": "code",
   "execution_count": 11,
   "metadata": {
    "collapsed": false
   },
   "outputs": [
    {
     "data": {
      "text/html": [
       "<table>\n",
       "<thead><tr><th></th><th scope=col>PassengerId</th><th scope=col>Survived</th><th scope=col>Pclass</th><th scope=col>Name</th><th scope=col>Sex</th><th scope=col>Age</th><th scope=col>SibSp</th><th scope=col>Parch</th><th scope=col>Ticket</th><th scope=col>Fare</th><th scope=col>Cabin</th><th scope=col>Embarked</th></tr></thead>\n",
       "<tbody>\n",
       "\t<tr><th scope=row>886</th><td>886</td><td>0</td><td>3</td><td>Rice, Mrs. William (Margaret Norton)</td><td>female</td><td>39</td><td>0</td><td>5</td><td>382652</td><td>29.125</td><td></td><td>Q</td></tr>\n",
       "\t<tr><th scope=row>887</th><td>887</td><td>0</td><td>2</td><td>Montvila, Rev. Juozas</td><td>male</td><td>27</td><td>0</td><td>0</td><td>211536</td><td>13</td><td></td><td>S</td></tr>\n",
       "\t<tr><th scope=row>888</th><td>888</td><td>1</td><td>1</td><td>Graham, Miss. Margaret Edith</td><td>female</td><td>19</td><td>0</td><td>0</td><td>112053</td><td>30</td><td>B42</td><td>S</td></tr>\n",
       "\t<tr><th scope=row>889</th><td>889</td><td>0</td><td>3</td><td>Johnston, Miss. Catherine Helen \"Carrie\"</td><td>female</td><td>NA</td><td>1</td><td>2</td><td>W./C. 6607</td><td>23.45</td><td></td><td>S</td></tr>\n",
       "\t<tr><th scope=row>890</th><td>890</td><td>1</td><td>1</td><td>Behr, Mr. Karl Howell</td><td>male</td><td>26</td><td>0</td><td>0</td><td>111369</td><td>30</td><td>C148</td><td>C</td></tr>\n",
       "\t<tr><th scope=row>891</th><td>891</td><td>0</td><td>3</td><td>Dooley, Mr. Patrick</td><td>male</td><td>32</td><td>0</td><td>0</td><td>370376</td><td>7.75</td><td></td><td>Q</td></tr>\n",
       "</tbody>\n",
       "</table>\n"
      ],
      "text/latex": [
       "\\begin{tabular}{r|llllllllllll}\n",
       "  & PassengerId & Survived & Pclass & Name & Sex & Age & SibSp & Parch & Ticket & Fare & Cabin & Embarked\\\\\n",
       "\\hline\n",
       "\t886 & 886 & 0 & 3 & Rice, Mrs. William (Margaret Norton) & female & 39 & 0 & 5 & 382652 & 29.125 &  & Q\\\\\n",
       "\t887 & 887 & 0 & 2 & Montvila, Rev. Juozas & male & 27 & 0 & 0 & 211536 & 13 &  & S\\\\\n",
       "\t888 & 888 & 1 & 1 & Graham, Miss. Margaret Edith & female & 19 & 0 & 0 & 112053 & 30 & B42 & S\\\\\n",
       "\t889 & 889 & 0 & 3 & Johnston, Miss. Catherine Helen \"Carrie\" & female & NA & 1 & 2 & W./C. 6607 & 23.45 &  & S\\\\\n",
       "\t890 & 890 & 1 & 1 & Behr, Mr. Karl Howell & male & 26 & 0 & 0 & 111369 & 30 & C148 & C\\\\\n",
       "\t891 & 891 & 0 & 3 & Dooley, Mr. Patrick & male & 32 & 0 & 0 & 370376 & 7.75 &  & Q\\\\\n",
       "\\end{tabular}\n"
      ],
      "text/plain": [
       "    PassengerId Survived Pclass                                     Name    Sex\n",
       "886         886        0      3     Rice, Mrs. William (Margaret Norton) female\n",
       "887         887        0      2                    Montvila, Rev. Juozas   male\n",
       "888         888        1      1             Graham, Miss. Margaret Edith female\n",
       "889         889        0      3 Johnston, Miss. Catherine Helen \"Carrie\" female\n",
       "890         890        1      1                    Behr, Mr. Karl Howell   male\n",
       "891         891        0      3                      Dooley, Mr. Patrick   male\n",
       "    Age SibSp Parch     Ticket   Fare Cabin Embarked\n",
       "886  39     0     5     382652 29.125              Q\n",
       "887  27     0     0     211536 13.000              S\n",
       "888  19     0     0     112053 30.000   B42        S\n",
       "889  NA     1     2 W./C. 6607 23.450              S\n",
       "890  26     0     0     111369 30.000  C148        C\n",
       "891  32     0     0     370376  7.750              Q"
      ]
     },
     "execution_count": 11,
     "metadata": {},
     "output_type": "execute_result"
    },
    {
     "data": {
      "text/html": [
       "<ol class=list-inline>\n",
       "\t<li>'397386'</li>\n",
       "\t<li>'342'</li>\n",
       "\t<li>'2057'</li>\n",
       "\t<li>'NA'</li>\n",
       "\t<li>'NA'</li>\n",
       "\t<li>'21205.17'</li>\n",
       "\t<li>'466'</li>\n",
       "\t<li>'340'</li>\n",
       "\t<li>'NA'</li>\n",
       "\t<li>'28693.9493'</li>\n",
       "\t<li>'NA'</li>\n",
       "\t<li>'NA'</li>\n",
       "</ol>\n"
      ],
      "text/latex": [
       "\\begin{enumerate*}\n",
       "\\item '397386'\n",
       "\\item '342'\n",
       "\\item '2057'\n",
       "\\item 'NA'\n",
       "\\item 'NA'\n",
       "\\item '21205.17'\n",
       "\\item '466'\n",
       "\\item '340'\n",
       "\\item 'NA'\n",
       "\\item '28693.9493'\n",
       "\\item 'NA'\n",
       "\\item 'NA'\n",
       "\\end{enumerate*}\n"
      ],
      "text/markdown": [
       "1. '397386'\n",
       "2. '342'\n",
       "3. '2057'\n",
       "4. 'NA'\n",
       "5. 'NA'\n",
       "6. '21205.17'\n",
       "7. '466'\n",
       "8. '340'\n",
       "9. 'NA'\n",
       "10. '28693.9493'\n",
       "11. 'NA'\n",
       "12. 'NA'\n",
       "\n",
       "\n"
      ],
      "text/plain": [
       " [1] \"397386\"     \"342\"        \"2057\"       \"NA\"         \"NA\"        \n",
       " [6] \"21205.17\"   \"466\"        \"340\"        \"NA\"         \"28693.9493\"\n",
       "[11] \"NA\"         \"NA\"        "
      ]
     },
     "execution_count": 11,
     "metadata": {},
     "output_type": "execute_result"
    },
    {
     "name": "stderr",
     "output_type": "stream",
     "text": [
      "Warning message:\n",
      "In `[<-.factor`(`*tmp*`, ri, value = \"NA\"): invalid factor level, NA generatedWarning message:\n",
      "In `[<-.factor`(`*tmp*`, ri, value = \"NA\"): invalid factor level, NA generatedWarning message:\n",
      "In `[<-.factor`(`*tmp*`, ri, value = \"NA\"): invalid factor level, NA generatedWarning message:\n",
      "In `[<-.factor`(`*tmp*`, ri, value = \"NA\"): invalid factor level, NA generatedWarning message:\n",
      "In `[<-.factor`(`*tmp*`, ri, value = \"NA\"): invalid factor level, NA generated"
     ]
    },
    {
     "data": {
      "text/html": [
       "<table>\n",
       "<thead><tr><th></th><th scope=col>PassengerId</th><th scope=col>Survived</th><th scope=col>Pclass</th><th scope=col>Name</th><th scope=col>Sex</th><th scope=col>Age</th><th scope=col>SibSp</th><th scope=col>Parch</th><th scope=col>Ticket</th><th scope=col>Fare</th><th scope=col>Cabin</th><th scope=col>Embarked</th></tr></thead>\n",
       "<tbody>\n",
       "\t<tr><th scope=row>887</th><td>887</td><td>0</td><td>2</td><td>Montvila, Rev. Juozas</td><td>male</td><td>27</td><td>0</td><td>0</td><td>211536</td><td>13</td><td></td><td>S</td></tr>\n",
       "\t<tr><th scope=row>888</th><td>888</td><td>1</td><td>1</td><td>Graham, Miss. Margaret Edith</td><td>female</td><td>19</td><td>0</td><td>0</td><td>112053</td><td>30</td><td>B42</td><td>S</td></tr>\n",
       "\t<tr><th scope=row>889</th><td>889</td><td>0</td><td>3</td><td>Johnston, Miss. Catherine Helen \"Carrie\"</td><td>female</td><td>NA</td><td>1</td><td>2</td><td>W./C. 6607</td><td>23.45</td><td></td><td>S</td></tr>\n",
       "\t<tr><th scope=row>890</th><td>890</td><td>1</td><td>1</td><td>Behr, Mr. Karl Howell</td><td>male</td><td>26</td><td>0</td><td>0</td><td>111369</td><td>30</td><td>C148</td><td>C</td></tr>\n",
       "\t<tr><th scope=row>891</th><td>891</td><td>0</td><td>3</td><td>Dooley, Mr. Patrick</td><td>male</td><td>32</td><td>0</td><td>0</td><td>370376</td><td>7.75</td><td></td><td>Q</td></tr>\n",
       "\t<tr><th scope=row>892</th><td>397386</td><td>342</td><td>2057</td><td>NA</td><td>NA</td><td>21205.17</td><td>466</td><td>340</td><td>NA</td><td>28693.9493</td><td>NA</td><td>NA</td></tr>\n",
       "</tbody>\n",
       "</table>\n"
      ],
      "text/latex": [
       "\\begin{tabular}{r|llllllllllll}\n",
       "  & PassengerId & Survived & Pclass & Name & Sex & Age & SibSp & Parch & Ticket & Fare & Cabin & Embarked\\\\\n",
       "\\hline\n",
       "\t887 & 887 & 0 & 2 & Montvila, Rev. Juozas & male & 27 & 0 & 0 & 211536 & 13 &  & S\\\\\n",
       "\t888 & 888 & 1 & 1 & Graham, Miss. Margaret Edith & female & 19 & 0 & 0 & 112053 & 30 & B42 & S\\\\\n",
       "\t889 & 889 & 0 & 3 & Johnston, Miss. Catherine Helen \"Carrie\" & female & NA & 1 & 2 & W./C. 6607 & 23.45 &  & S\\\\\n",
       "\t890 & 890 & 1 & 1 & Behr, Mr. Karl Howell & male & 26 & 0 & 0 & 111369 & 30 & C148 & C\\\\\n",
       "\t891 & 891 & 0 & 3 & Dooley, Mr. Patrick & male & 32 & 0 & 0 & 370376 & 7.75 &  & Q\\\\\n",
       "\t892 & 397386 & 342 & 2057 & NA & NA & 21205.17 & 466 & 340 & NA & 28693.9493 & NA & NA\\\\\n",
       "\\end{tabular}\n"
      ],
      "text/plain": [
       "    PassengerId Survived Pclass                                     Name    Sex\n",
       "887         887        0      2                    Montvila, Rev. Juozas   male\n",
       "888         888        1      1             Graham, Miss. Margaret Edith female\n",
       "889         889        0      3 Johnston, Miss. Catherine Helen \"Carrie\" female\n",
       "890         890        1      1                    Behr, Mr. Karl Howell   male\n",
       "891         891        0      3                      Dooley, Mr. Patrick   male\n",
       "892      397386      342   2057                                     <NA>   <NA>\n",
       "         Age SibSp Parch     Ticket       Fare Cabin Embarked\n",
       "887       27     0     0     211536         13              S\n",
       "888       19     0     0     112053         30   B42        S\n",
       "889     <NA>     1     2 W./C. 6607      23.45              S\n",
       "890       26     0     0     111369         30  C148        C\n",
       "891       32     0     0     370376       7.75              Q\n",
       "892 21205.17   466   340       <NA> 28693.9493  <NA>     <NA>"
      ]
     },
     "execution_count": 11,
     "metadata": {},
     "output_type": "execute_result"
    }
   ],
   "source": [
    "tail(titanic)\n",
    "vectorV <- c(sum(titanic$PassengerId, na.rm = TRUE),\n",
    "             sum(titanic$Survived, na.rm = TRUE),\n",
    "             sum(titanic$Pclass, na.rm = TRUE),\n",
    "             \"NA\",\n",
    "             \"NA\",\n",
    "             sum(titanic$Age, na.rm = TRUE),\n",
    "             sum(titanic$SibSp, na.rm = TRUE),\n",
    "             sum(titanic$Parch, na.rm = TRUE),\n",
    "             \"NA\",\n",
    "             sum(titanic$Fare, na.rm = TRUE),\n",
    "             \"NA\",\n",
    "             \"NA\")\n",
    "vectorV\n",
    "\n",
    "titanic <- rbind(titanic,vectorV)\n",
    "tail(titanic)"
   ]
  }
 ],
 "metadata": {
  "kernelspec": {
   "display_name": "R",
   "language": "R",
   "name": "ir"
  },
  "language_info": {
   "codemirror_mode": "r",
   "file_extension": ".r",
   "mimetype": "text/x-r-source",
   "name": "R",
   "pygments_lexer": "r",
   "version": "3.2.2"
  }
 },
 "nbformat": 4,
 "nbformat_minor": 0
}
