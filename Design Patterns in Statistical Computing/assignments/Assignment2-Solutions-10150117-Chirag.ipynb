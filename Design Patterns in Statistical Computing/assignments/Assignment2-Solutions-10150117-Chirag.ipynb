{
 "cells": [
  {
   "cell_type": "markdown",
   "metadata": {},
   "source": [
    "Please fill up the following\n",
    "* Student Name: Chirag Gambhira\n",
    "* Student ID: 10150117\n",
    "* Student Email ID: chirag.bdapm10150117@spjain.org\n",
    "* Student GitHub Repo URL: https://github.com/datablues/bdap2015.git"
   ]
  },
  {
   "cell_type": "markdown",
   "metadata": {},
   "source": [
    "# DPSC Assignment 2"
   ]
  },
  {
   "cell_type": "markdown",
   "metadata": {},
   "source": [
    "## Instructions\n",
    "\n",
    "For each of the tasks below, write relevant R code in the cells and execute the cells before submission."
   ]
  },
  {
   "cell_type": "markdown",
   "metadata": {},
   "source": [
    "### Problem 1\n",
    "\n",
    "Consider a digital clock that shows hours and minutes. The day start at 00:00 and ends at 24:00. Assume\n",
    "that the four digits shown in the clock actually is one single number. For example 13:15 is to be interpreted\n",
    "as 1315. How many prime numbers are shown by the digital clock in a day?"
   ]
  },
  {
   "cell_type": "code",
   "execution_count": null,
   "metadata": {
    "collapsed": false
   },
   "outputs": [],
   "source": [
    "hr <-(sprintf(\"%01d\",0:24))\n",
    "min<-(sprintf(\"%02d\",0:59))\n",
    "k=1\n",
    "a<-c()\n",
    "for(i in 1:24){\n",
    "  for(j in 0:59){\n",
    "    j=j+1\n",
    "a[k]<-((paste0(hr[i],min[j],sep=\" \")))\n",
    "k=k+1\n",
    "  }\n",
    "  i=i+1\n",
    "}\n",
    "a<-as.numeric(a)\n",
    "cp<-0\n",
    "for(l in 1:length(a)){\n",
    "  if (a[l] == 2) {\n",
    "    cp=cp+1\n",
    "    print(a[l])\n",
    "  } else if (any(a[l] %% 2:(a[l]-1) == 0)) {\n",
    "    FALSE\n",
    "  } else { \n",
    "    cp=cp+1\n",
    "    print(a[l])\n",
    "  }\n",
    "}\n",
    "cp\n"
   ]
  },
  {
   "cell_type": "markdown",
   "metadata": {},
   "source": [
    "### Problem 2\n",
    "\n",
    "Two friends, A & B, meet every evening and play three games of speed-chess. After the three games, the two\n",
    "friends record the outcomes in a file. A sample illustration of the file is given below, for 4 days:\n",
    "\n",
    "game no| day1 | day2 | day3 | day4\n",
    "-------|------|------|------|------\n",
    "game 1 | 1    | 2    | 1    | 2\n",
    "game 2 | 2    | 2    | 1    | 2\n",
    "game 3 | 1    | 1    | 2    | 2\n",
    "\n",
    "\n",
    "* If A wins, the outcome is coded as 1.\n",
    "* If B wins, the outcome is coded as 2.\n",
    "\n",
    "At the end of three games, the person who wins the maximum number (at least 2 out of 3) is deemed the winner of the day. Assume there is never a draw between the two. The outcomes for each day are stored in **assignment2-q2.csv**.\n",
    "\n",
    "Read the datafile in to your workspace and answer the following questions:\n",
    "\n",
    "* For how long have the friends kept a record of their games?\n",
    "* How many days does B become winner of the day?\n",
    "* How many days did the two friends play the third game, despite knowing the winner of day?"
   ]
  },
  {
   "cell_type": "code",
   "execution_count": null,
   "metadata": {
    "collapsed": false
   },
   "outputs": [],
   "source": [
    "chess <- read.csv(\"/home/chiragg/Documents/gitdir/bdap2015/Design Patterns in Statistical Computing/data/assignment2-q2.csv\", header = TRUE)  \n",
    "tail(chess)\n",
    "#from above function it can be seen that they have kept record for 500 days\n",
    "\n",
    "i<-1\n",
    "Bwin<-0\n",
    "while (i<=500) {\n",
    "    if (sum(chess[,i])>=5)\n",
    "        Bwin = Bwin + 1\n",
    "i = i + 1\n",
    "}\n",
    "print(Bwin)\n",
    "    \n",
    "i<-1\n",
    "win<-0\n",
    "while (i<=500) {\n",
    "    if (chess[1,i]==chess[2,i])\n",
    "        win = win + 1\n",
    "        i = i + 1\n",
    "}\n",
    "print(win)    \n",
    "\n",
    "\n",
    "\n",
    "\n",
    "    "
   ]
  },
  {
   "cell_type": "code",
   "execution_count": null,
   "metadata": {
    "collapsed": true
   },
   "outputs": [],
   "source": []
  }
 ],
 "metadata": {
  "kernelspec": {
   "display_name": "R",
   "language": "R",
   "name": "ir"
  },
  "language_info": {
   "codemirror_mode": "r",
   "file_extension": ".r",
   "mimetype": "text/x-r-source",
   "name": "R",
   "pygments_lexer": "r",
   "version": "3.2.3"
  }
 },
 "nbformat": 4,
 "nbformat_minor": 0
}
