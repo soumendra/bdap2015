{
 "cells": [
  {
   "cell_type": "markdown",
   "metadata": {},
   "source": [
    "Please fill up the following\n",
    "* Student Name: Chirag Gambhira\n",
    "* Student ID: 10150117\n",
    "* Student Email ID: chirag.bdapm10150117@spjain.org\n",
    "* Student GitHub Repo URL: https://github.com/datablues/bdap2015.git"
   ]
  },
  {
   "cell_type": "markdown",
   "metadata": {},
   "source": [
    "# DPSC Assignment 1"
   ]
  },
  {
   "cell_type": "markdown",
   "metadata": {},
   "source": [
    "## Instructions\n",
    "\n",
    "For each of the tasks below, write relevant R code in the cells and execute the cells before submission."
   ]
  },
  {
   "cell_type": "markdown",
   "metadata": {},
   "source": [
    "### Problem 1\n",
    "\n",
    "Is the following a DataFrame?"
   ]
  },
  {
   "cell_type": "markdown",
   "metadata": {
    "collapsed": true
   },
   "source": [
    "control | pre-heated | pre-chilled\n",
    "-------- | ---------- | ----------\n",
    "5.9 | 5.8  | 6.1\n",
    "6.2 | 7.3  | 6.3\n",
    "8.2 | 5.4  | 7.1\n",
    "5.8 | 6.3  | 6.9"
   ]
  },
  {
   "cell_type": "markdown",
   "metadata": {},
   "source": [
    "**Ans: ** No this is not a dataframe as \"control\" \"pre-heated\" and \"pre-chilled\" are different conditions of one attribute."
   ]
  },
  {
   "cell_type": "markdown",
   "metadata": {},
   "source": [
    "### Problem 2\n",
    "\n",
    "Import the *titanic.csv* file (present in the *data* folder of the repository, don't move it elsewhere or your pull request will be rejected) and create a statistical summary of the variables. Read the DataFrame into a variable called *titanic*."
   ]
  },
  {
   "cell_type": "code",
   "execution_count": 1,
   "metadata": {
    "collapsed": false
   },
   "outputs": [
    {
     "data": {
      "text/plain": [
       "  PassengerId       Survived          Pclass     \n",
       " Min.   :  1.0   Min.   :0.0000   Min.   :1.000  \n",
       " 1st Qu.:223.5   1st Qu.:0.0000   1st Qu.:2.000  \n",
       " Median :446.0   Median :0.0000   Median :3.000  \n",
       " Mean   :446.0   Mean   :0.3838   Mean   :2.309  \n",
       " 3rd Qu.:668.5   3rd Qu.:1.0000   3rd Qu.:3.000  \n",
       " Max.   :891.0   Max.   :1.0000   Max.   :3.000  \n",
       "                                                 \n",
       "                                    Name         Sex           Age       \n",
       " Abbing, Mr. Anthony                  :  1   female:314   Min.   : 0.42  \n",
       " Abbott, Mr. Rossmore Edward          :  1   male  :577   1st Qu.:20.12  \n",
       " Abbott, Mrs. Stanton (Rosa Hunt)     :  1                Median :28.00  \n",
       " Abelson, Mr. Samuel                  :  1                Mean   :29.70  \n",
       " Abelson, Mrs. Samuel (Hannah Wizosky):  1                3rd Qu.:38.00  \n",
       " Adahl, Mr. Mauritz Nils Martin       :  1                Max.   :80.00  \n",
       " (Other)                              :885                NA's   :177    \n",
       "     SibSp           Parch             Ticket         Fare       \n",
       " Min.   :0.000   Min.   :0.0000   1601    :  7   Min.   :  0.00  \n",
       " 1st Qu.:0.000   1st Qu.:0.0000   347082  :  7   1st Qu.:  7.91  \n",
       " Median :0.000   Median :0.0000   CA. 2343:  7   Median : 14.45  \n",
       " Mean   :0.523   Mean   :0.3816   3101295 :  6   Mean   : 32.20  \n",
       " 3rd Qu.:1.000   3rd Qu.:0.0000   347088  :  6   3rd Qu.: 31.00  \n",
       " Max.   :8.000   Max.   :6.0000   CA 2144 :  6   Max.   :512.33  \n",
       "                                  (Other) :852                   \n",
       "         Cabin     Embarked\n",
       "            :687    :  2   \n",
       " B96 B98    :  4   C:168   \n",
       " C23 C25 C27:  4   Q: 77   \n",
       " G6         :  4   S:644   \n",
       " C22 C26    :  3           \n",
       " D          :  3           \n",
       " (Other)    :186           "
      ]
     },
     "execution_count": 1,
     "metadata": {},
     "output_type": "execute_result"
    },
    {
     "name": "stdout",
     "output_type": "stream",
     "text": [
      "'data.frame':\t891 obs. of  12 variables:\n",
      " $ PassengerId: int  1 2 3 4 5 6 7 8 9 10 ...\n",
      " $ Survived   : int  0 1 1 1 0 0 0 0 1 1 ...\n",
      " $ Pclass     : int  3 1 3 1 3 3 1 3 3 2 ...\n",
      " $ Name       : Factor w/ 891 levels \"Abbing, Mr. Anthony\",..: 109 191 358 277 16 559 520 629 416 581 ...\n",
      " $ Sex        : Factor w/ 2 levels \"female\",\"male\": 2 1 1 1 2 2 2 2 1 1 ...\n",
      " $ Age        : num  22 38 26 35 35 NA 54 2 27 14 ...\n",
      " $ SibSp      : int  1 1 0 1 0 0 0 3 0 1 ...\n",
      " $ Parch      : int  0 0 0 0 0 0 0 1 2 0 ...\n",
      " $ Ticket     : Factor w/ 681 levels \"110152\",\"110413\",..: 525 596 662 50 473 276 86 396 345 133 ...\n",
      " $ Fare       : num  7.25 71.28 7.92 53.1 8.05 ...\n",
      " $ Cabin      : Factor w/ 148 levels \"\",\"A10\",\"A14\",..: 1 83 1 57 1 1 131 1 1 1 ...\n",
      " $ Embarked   : Factor w/ 4 levels \"\",\"C\",\"Q\",\"S\": 4 2 4 4 4 3 4 4 4 2 ...\n"
     ]
    }
   ],
   "source": [
    "titanic <- read.csv(\"/home/chiragg/Documents/gitdir/bdap2015/Design Patterns in Statistical Computing/data/titanic.csv\", header = TRUE,stringsAsFactors = TRUE) \n",
    "summary(titanic)\n",
    "str(titanic)"
   ]
  },
  {
   "cell_type": "markdown",
   "metadata": {},
   "source": [
    "### Problem 3\n",
    "\n",
    "For the DataFrame *titanic*\n",
    "\n",
    "* Calculate the mean of all the numeric columns.\n",
    "* Add its column sums to the original matrix as an additional row. Use *NA* for non-numeric columns."
   ]
  },
  {
   "cell_type": "code",
   "execution_count": 2,
   "metadata": {
    "collapsed": false
   },
   "outputs": [
    {
     "data": {
      "text/html": [
       "<dl class=dl-horizontal>\n",
       "\t<dt>PassengerId</dt>\n",
       "\t\t<dd>TRUE</dd>\n",
       "\t<dt>Survived</dt>\n",
       "\t\t<dd>FALSE</dd>\n",
       "\t<dt>Pclass</dt>\n",
       "\t\t<dd>FALSE</dd>\n",
       "\t<dt>Name</dt>\n",
       "\t\t<dd>FALSE</dd>\n",
       "\t<dt>Sex</dt>\n",
       "\t\t<dd>FALSE</dd>\n",
       "\t<dt>Age</dt>\n",
       "\t\t<dd>TRUE</dd>\n",
       "\t<dt>SibSp</dt>\n",
       "\t\t<dd>FALSE</dd>\n",
       "\t<dt>Parch</dt>\n",
       "\t\t<dd>FALSE</dd>\n",
       "\t<dt>Ticket</dt>\n",
       "\t\t<dd>FALSE</dd>\n",
       "\t<dt>Fare</dt>\n",
       "\t\t<dd>TRUE</dd>\n",
       "\t<dt>Cabin</dt>\n",
       "\t\t<dd>FALSE</dd>\n",
       "\t<dt>Embarked</dt>\n",
       "\t\t<dd>FALSE</dd>\n",
       "</dl>\n"
      ],
      "text/latex": [
       "\\begin{description*}\n",
       "\\item[PassengerId] TRUE\n",
       "\\item[Survived] FALSE\n",
       "\\item[Pclass] FALSE\n",
       "\\item[Name] FALSE\n",
       "\\item[Sex] FALSE\n",
       "\\item[Age] TRUE\n",
       "\\item[SibSp] FALSE\n",
       "\\item[Parch] FALSE\n",
       "\\item[Ticket] FALSE\n",
       "\\item[Fare] TRUE\n",
       "\\item[Cabin] FALSE\n",
       "\\item[Embarked] FALSE\n",
       "\\end{description*}\n"
      ],
      "text/markdown": [
       "PassengerId\n",
       ":   TRUESurvived\n",
       ":   FALSEPclass\n",
       ":   FALSEName\n",
       ":   FALSESex\n",
       ":   FALSEAge\n",
       ":   TRUESibSp\n",
       ":   FALSEParch\n",
       ":   FALSETicket\n",
       ":   FALSEFare\n",
       ":   TRUECabin\n",
       ":   FALSEEmbarked\n",
       ":   FALSE\n",
       "\n"
      ],
      "text/plain": [
       "PassengerId    Survived      Pclass        Name         Sex         Age \n",
       "       TRUE       FALSE       FALSE       FALSE       FALSE        TRUE \n",
       "      SibSp       Parch      Ticket        Fare       Cabin    Embarked \n",
       "      FALSE       FALSE       FALSE        TRUE       FALSE       FALSE "
      ]
     },
     "execution_count": 2,
     "metadata": {},
     "output_type": "execute_result"
    },
    {
     "data": {
      "text/html": [
       "<table>\n",
       "<thead><tr><th></th><th scope=col>PassengerId</th><th scope=col>Survived</th><th scope=col>Pclass</th><th scope=col>Name</th><th scope=col>Sex</th><th scope=col>Age</th><th scope=col>SibSp</th><th scope=col>Parch</th><th scope=col>Ticket</th><th scope=col>Fare</th><th scope=col>Cabin</th><th scope=col>Embarked</th></tr></thead>\n",
       "<tbody>\n",
       "\t<tr><th scope=row>887</th><td>887</td><td>0</td><td>2</td><td>Montvila, Rev. Juozas</td><td>male</td><td>27</td><td>0</td><td>0</td><td>211536</td><td>13</td><td></td><td>S</td></tr>\n",
       "\t<tr><th scope=row>888</th><td>888</td><td>1</td><td>1</td><td>Graham, Miss. Margaret Edith</td><td>female</td><td>19</td><td>0</td><td>0</td><td>112053</td><td>30</td><td>B42</td><td>S</td></tr>\n",
       "\t<tr><th scope=row>889</th><td>889</td><td>0</td><td>3</td><td>Johnston, Miss. Catherine Helen \"Carrie\"</td><td>female</td><td>NA</td><td>1</td><td>2</td><td>W./C. 6607</td><td>23.45</td><td></td><td>S</td></tr>\n",
       "\t<tr><th scope=row>890</th><td>890</td><td>1</td><td>1</td><td>Behr, Mr. Karl Howell</td><td>male</td><td>26</td><td>0</td><td>0</td><td>111369</td><td>30</td><td>C148</td><td>C</td></tr>\n",
       "\t<tr><th scope=row>891</th><td>891</td><td>0</td><td>3</td><td>Dooley, Mr. Patrick</td><td>male</td><td>32</td><td>0</td><td>0</td><td>370376</td><td>7.75</td><td></td><td>Q</td></tr>\n",
       "\t<tr><th scope=row>892</th><td>NA</td><td>NA</td><td>NA</td><td>NA</td><td>NA</td><td>29.69912</td><td>NA</td><td>NA</td><td>NA</td><td>32.20421</td><td>NA</td><td>NA</td></tr>\n",
       "</tbody>\n",
       "</table>\n"
      ],
      "text/latex": [
       "\\begin{tabular}{r|llllllllllll}\n",
       "  & PassengerId & Survived & Pclass & Name & Sex & Age & SibSp & Parch & Ticket & Fare & Cabin & Embarked\\\\\n",
       "\\hline\n",
       "\t887 & 887 & 0 & 2 & Montvila, Rev. Juozas & male & 27 & 0 & 0 & 211536 & 13 &  & S\\\\\n",
       "\t888 & 888 & 1 & 1 & Graham, Miss. Margaret Edith & female & 19 & 0 & 0 & 112053 & 30 & B42 & S\\\\\n",
       "\t889 & 889 & 0 & 3 & Johnston, Miss. Catherine Helen \"Carrie\" & female & NA & 1 & 2 & W./C. 6607 & 23.45 &  & S\\\\\n",
       "\t890 & 890 & 1 & 1 & Behr, Mr. Karl Howell & male & 26 & 0 & 0 & 111369 & 30 & C148 & C\\\\\n",
       "\t891 & 891 & 0 & 3 & Dooley, Mr. Patrick & male & 32 & 0 & 0 & 370376 & 7.75 &  & Q\\\\\n",
       "\t892 & NA & NA & NA & NA & NA & 29.69912 & NA & NA & NA & 32.20421 & NA & NA\\\\\n",
       "\\end{tabular}\n"
      ],
      "text/plain": [
       "    PassengerId Survived Pclass                                     Name    Sex\n",
       "887         887        0      2                    Montvila, Rev. Juozas   male\n",
       "888         888        1      1             Graham, Miss. Margaret Edith female\n",
       "889         889        0      3 Johnston, Miss. Catherine Helen \"Carrie\" female\n",
       "890         890        1      1                    Behr, Mr. Karl Howell   male\n",
       "891         891        0      3                      Dooley, Mr. Patrick   male\n",
       "892          NA     <NA>   <NA>                                     <NA>   <NA>\n",
       "         Age SibSp Parch     Ticket     Fare Cabin Embarked\n",
       "887 27.00000     0     0     211536 13.00000              S\n",
       "888 19.00000     0     0     112053 30.00000   B42        S\n",
       "889       NA     1     2 W./C. 6607 23.45000              S\n",
       "890 26.00000     0     0     111369 30.00000  C148        C\n",
       "891 32.00000     0     0     370376  7.75000              Q\n",
       "892 29.69912  <NA>  <NA>       <NA> 32.20421  <NA>     <NA>"
      ]
     },
     "execution_count": 2,
     "metadata": {},
     "output_type": "execute_result"
    }
   ],
   "source": [
    "#below attributes are converted from integer vriables to factor variables\n",
    "titanic$Survived <- as.factor(titanic$Survived)  \n",
    "titanic$Pclass <- as.factor(titanic$Pclass)     \n",
    "titanic$SibSp <- as.factor(titanic$SibSp)\n",
    "titanic$Parch <- as.factor(titanic$Parch)  \n",
    "numer <- sapply(titanic, is.numeric)\n",
    "numer\n",
    "amean <-mean(titanic$Age,na.rm=TRUE)\n",
    "fmean <-mean(titanic$Fare)\n",
    "means <- as.vector(c(NA, NA, NA, NA, NA, amean, NA, NA, NA, fmean, NA, NA))\n",
    "newtitan <-rbind(titanic,means)\n",
    "tail(newtitan)"
   ]
  }
 ],
 "metadata": {
  "kernelspec": {
   "display_name": "R",
   "language": "R",
   "name": "ir"
  },
  "language_info": {
   "codemirror_mode": "r",
   "file_extension": ".r",
   "mimetype": "text/x-r-source",
   "name": "R",
   "pygments_lexer": "r",
   "version": "3.2.3"
  }
 },
 "nbformat": 4,
 "nbformat_minor": 0
}
