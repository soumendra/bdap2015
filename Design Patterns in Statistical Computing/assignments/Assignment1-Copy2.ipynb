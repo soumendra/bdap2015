{
 "cells": [
  {
   "cell_type": "markdown",
   "metadata": {},
   "source": [
    "Please fill up the following\n",
    "* Student Name:\n",
    "* Student ID:\n",
    "* Student Email ID:\n",
    "* Student GitHub Repo URL:"
   ]
  },
  {
   "cell_type": "markdown",
   "metadata": {},
   "source": [
    "# DPSC Assignment 1"
   ]
  },
  {
   "cell_type": "markdown",
   "metadata": {},
   "source": [
    "## Instructions\n",
    "\n",
    "For each of the tasks below, write relevant R code in the cells and execute the cells before submission."
   ]
  },
  {
   "cell_type": "markdown",
   "metadata": {},
   "source": [
    "### Problem 1\n",
    "\n",
    "Is the following a DataFrame?"
   ]
  },
  {
   "cell_type": "markdown",
   "metadata": {
    "collapsed": true
   },
   "source": [
    "control | pre-heated | pre-chilled\n",
    "-------- | ---------- | ----------\n",
    "5.9 | 5.8  | 6.1\n",
    "6.2 | 7.3  | 6.3\n",
    "8.2 | 5.4  | 7.1\n",
    "5.8 | 6.3  | 6.9"
   ]
  },
  {
   "cell_type": "markdown",
   "metadata": {},
   "source": [
    "**Ans: **"
   ]
  },
  {
   "cell_type": "markdown",
   "metadata": {},
   "source": [
    "### Problem 2\n",
    "\n",
    "Import the *titanic.csv* file (present in the *data* folder of the repository, don't move it elsewhere or your pull request will be rejected) and create a statistical summary of the variables. Read the DataFrame into a variable called *titanic*."
   ]
  },
  {
   "cell_type": "code",
   "execution_count": null,
   "metadata": {
    "collapsed": true
   },
   "outputs": [],
   "source": []
  },
  {
   "cell_type": "markdown",
   "metadata": {},
   "source": [
    "### Problem 3\n",
    "\n",
    "For the DataFrame *titanic*\n",
    "\n",
    "* Calculate the mean of all the numeric columns.\n",
    "* Add its column sums to the original matrix as an additional row. Use *NA* for non-numeric columns."
   ]
  },
  {
   "cell_type": "code",
   "execution_count": null,
   "metadata": {
    "collapsed": true
   },
   "outputs": [],
   "source": []
  }
 ],
 "metadata": {
  "kernelspec": {
   "display_name": "R",
   "language": "R",
   "name": "ir"
  },
  "language_info": {
   "codemirror_mode": "r",
   "file_extension": ".r",
   "mimetype": "text/x-r-source",
   "name": "R",
   "pygments_lexer": "r",
   "version": "3.2.2"
  }
 },
 "nbformat": 4,
 "nbformat_minor": 0
}
